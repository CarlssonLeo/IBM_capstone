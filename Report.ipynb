{
 "cells": [
  {
   "cell_type": "markdown",
   "metadata": {},
   "source": [
    "# Introduction\n",
    "Car accidents are dangerous, and many people die each year, approximately 1.35 million people according to the Association for Safe International Road Travel (ASIRT) [1]. \n",
    "\n",
    "Using a large dataset and machine learning, it should be possible to predict the severity of car accidents, which when deployed could help determine measures from policy makers to make road travel safer (and push more people to public transport). \n",
    "\n",
    "# Data\n",
    "The City of Seattle has collected data on road incidents over a long period of time, and contains almost 200,000 datapoints, including a measure of severity. From this, several features are selected to predict the severity. \n",
    "\n",
    "Due to the format of the dataset, many of the features are information that is impossible to know before the accident happens. For instance, an accident containing many cars is often severe, but we cannot know how many cars will be involved before it has happened. As such, this could be another prediction target, but cannot be used as a feature for a deployed algorithm, with features we know. \n",
    "\n",
    "As such, the following features were selected: \n",
    "- Place of accidents, as intsersections might be more severe than just a tailend incident.\n",
    "- Road contition, since wheter weather makes it slippery, or roads in need of repair.\n",
    "- Light condition, since low visibility impacts the ability to mitigate the severity\n",
    "- Wheather, probably correlated with road condition, but still could be useful\n",
    "- Indicent Time, which will be used for feature engineering time of day and prevalence of accidents during months\n",
    "\n",
    "Most of these are categorical variables, which sadly makes deployment harder since it has to use some type of decider to classify the light condition and so on. A more useful index would be a sensor measurement of light, but this is not available yet, and this model could be transfered into such a setting. \n",
    "\n",
    "\n",
    "## Sources\n",
    "[1] https://www.asirt.org/safe-travel/road-safety-facts/\n",
    "\n",
    "[2] https://s3.us.cloud-object-storage.appdomain.cloud/cf-courses-data/CognitiveClass/DP0701EN/version-2/Metadata.pdf\n"
   ]
  }
 ],
 "metadata": {
  "kernelspec": {
   "display_name": "Python 3",
   "language": "python",
   "name": "python3"
  },
  "language_info": {
   "codemirror_mode": {
    "name": "ipython",
    "version": 3
   },
   "file_extension": ".py",
   "mimetype": "text/x-python",
   "name": "python",
   "nbconvert_exporter": "python",
   "pygments_lexer": "ipython3",
   "version": "3.7.4"
  }
 },
 "nbformat": 4,
 "nbformat_minor": 4
}
